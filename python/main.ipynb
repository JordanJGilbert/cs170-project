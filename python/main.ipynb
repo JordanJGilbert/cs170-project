{
 "cells": [
  {
   "cell_type": "code",
   "execution_count": null,
   "metadata": {},
   "outputs": [],
   "source": [
    "# Install packages\n",
    "# %pip install networkx\n",
    "# %pip install numpy\n",
    "# %pip install tqdm\n",
    "# %pip install matplotlib"
   ]
  },
  {
   "cell_type": "code",
   "execution_count": null,
   "metadata": {},
   "outputs": [],
   "source": [
    "# The starter code is short and simple, take a look!\n",
    "from starter import *\n",
    "from physics_misc import *\n",
    "import itertools\n",
    "import random"
   ]
  },
  {
   "cell_type": "markdown",
   "metadata": {},
   "source": [
    "# Phase 1 - Create Inputs"
   ]
  },
  {
   "cell_type": "code",
   "execution_count": null,
   "metadata": {},
   "outputs": [],
   "source": [
    "# Add edges with G.add_edge(u, v, weight=w)\n",
    "# Idea: consider making the inputs with a solution in mind, \n",
    "# such that you know the solution when the outputs are released\n",
    "\n",
    "def np_int32_to_int(G: nx.Graph):\n",
    "    for u, v, d in G.edges(data=True):\n",
    "        d['weight'] = int(d['weight'])\n",
    "\n",
    "def random_generate(G: nx.Graph):\n",
    "    edges = []\n",
    "    for u in range(G.number_of_nodes()):\n",
    "        for v in range(u + 1, G.number_of_nodes()):\n",
    "            edges.append((u, v))\n",
    "    random.shuffle(edges)\n",
    "    for u, v in edges[:min(MAX_EDGES, len(edges))]:\n",
    "        if u == v:\n",
    "            continue\n",
    "        G.add_edge(u, v, weight=random.randint(1, MAX_WEIGHT))\n",
    "    while sum(d for u, v, d in G.edges(data='weight')) < MIN_NET_WEIGHT:\n",
    "        u, v = random.randint(0, G.number_of_nodes() - 1), random.randint(0, G.number_of_nodes() - 1)\n",
    "        if u == v:\n",
    "            continue\n",
    "        G.add_edge(u, v, weight=random.randint(1, MAX_WEIGHT))\n",
    "    np_int32_to_int(G)\n",
    "\n",
    "def lopsided_generate(G: nx.Graph):\n",
    "    # few nodes have edges to every other node\n",
    "    edges = []\n",
    "    for u in range(G.number_of_nodes()):\n",
    "        for v in range(u + 1, G.number_of_nodes()):\n",
    "            edges.append((u, v))\n",
    "    edges = edges[:min(MAX_EDGES, len(edges))]\n",
    "    for u, v in edges:\n",
    "        G.add_edge(u, v, weight=random.randint(MAX_WEIGHT, MAX_WEIGHT))\n",
    "    np_int32_to_int(G)\n",
    "    \n",
    "def scatter_close_generate(G: nx.Graph):\n",
    "    node_pos = np.random.randint(0, 1000, (G.number_of_nodes(), 5))\n",
    "    print(node_pos)\n",
    "    max_edges_per_node = MAX_EDGES // G.number_of_nodes() - 3\n",
    "    for u in range(G.number_of_nodes()):\n",
    "        dist = [(v, np.linalg.norm(node_pos[u] - node_pos[v])) for v in range(G.number_of_nodes()) if u != v]\n",
    "        dist.sort(key=lambda x: x[1])\n",
    "        for v, w in dist[:5]:\n",
    "            G.add_edge(u, v, weight=max(1, min(MAX_WEIGHT, int(round(w)))))\n",
    "    while not nx.is_connected(G):\n",
    "        dist = [(u, v, np.linalg.norm(node_pos[u] - node_pos[v])) for u, v in itertools.combinations(range(G.number_of_nodes()), 2) if u != v and not G.has_edge(u, v)]\n",
    "        dist.sort(key=lambda x: x[2])\n",
    "        for u, v, w in dist:\n",
    "            G.add_edge(u, v, weight=max(1, min(MAX_WEIGHT, int(round(w)))))\n",
    "            break\n",
    "    print(G.number_of_edges())\n",
    "    print(sum(d for u, v, d in G.edges(data='weight')))\n",
    "    np_int32_to_int(G)\n",
    "\n",
    "def triangle_circle_generate(G: nx.Graph):\n",
    "    max_edges_per_node = MAX_EDGES // G.number_of_nodes()\n",
    "    edges = []\n",
    "    for u in range(G.number_of_nodes()):\n",
    "        for v in range(u + 1, u + max_edges_per_node + 1):\n",
    "            edges.append((u, v % G.number_of_nodes()))\n",
    "    for u, v in edges:\n",
    "        G.add_edge(u, v, weight=random.randint(1, max(u, v)))\n",
    "    np_int32_to_int(G)\n",
    "\n",
    "def random_prior_generate(G: nx.Graph):\n",
    "    max_edges_per_node = MAX_EDGES // G.number_of_nodes()\n",
    "    for u in range(max_edges_per_node, G.number_of_nodes()):\n",
    "        vs = random.sample(range(u), max_edges_per_node)\n",
    "        for v in vs:\n",
    "            G.add_edge(u, v, weight=random.randint(max(min(u, v), 1), max(u, v)))\n",
    "    for u, v in itertools.combinations(range(max_edges_per_node), 2):\n",
    "        if u == v:\n",
    "            continue\n",
    "        G.add_edge(u, v, weight=random.randint(max(min(u, v), 1), max(u, v)))\n",
    "\n",
    "def multiply_generate(G: nx.Graph):\n",
    "    for u in range(G.number_of_nodes()):\n",
    "        for v in range(u + 1, G.number_of_nodes()):\n",
    "            if (u + 1) * (v + 1) % MAX_WEIGHT > 0:\n",
    "                G.add_edge(u, v, weight=(u + 1) * (v + 1) % MAX_WEIGHT)\n",
    "\n",
    "def small(G: nx.Graph):\n",
    "    multiply_generate(G)\n",
    "\n",
    "def medium(G: nx.Graph):\n",
    "    random_prior_generate(G)\n",
    "\n",
    "def large(G: nx.Graph):\n",
    "    triangle_circle_generate(G)\n",
    "\n",
    "def hw11_6c(dim = 4):\n",
    "    G = nx.empty_graph(dim * dim)\n",
    "    for i in range(dim):\n",
    "        for j in range(dim):\n",
    "            if i > 0:\n",
    "                G.add_edge(i * dim + j, (i - 1) * dim + j, weight=1)\n",
    "            if j > 0:\n",
    "                G.add_edge(i * dim + j, i * dim + j - 1, weight=1)\n",
    "    np_int32_to_int(G)\n",
    "    return G"
   ]
  },
  {
   "cell_type": "code",
   "execution_count": null,
   "metadata": {},
   "outputs": [],
   "source": [
    "G = nx.empty_graph(N_SMALL)\n",
    "small(G)\n",
    "write_input(G, '../tests/small/multiply/')\n",
    "\n",
    "# G = nx.empty_graph(N_MEDIUM)\n",
    "# medium(G)\n",
    "# write_input(G, '../tests/medium/prior/')\n",
    "\n",
    "# G = nx.empty_graph(N_LARGE)\n",
    "# large(G)\n",
    "# write_input(G, '../tests/large/circle/')"
   ]
  },
  {
   "cell_type": "markdown",
   "metadata": {},
   "source": [
    "# Phase 2 - Implement your Solver"
   ]
  },
  {
   "cell_type": "code",
   "execution_count": null,
   "metadata": {},
   "outputs": [],
   "source": [
    "IN_FILE = '../tests/large/lopsided_1/'\n",
    "\n",
    "def copy_teams(G: nx.Graph, G_copy: nx.Graph):\n",
    "    for v in G:\n",
    "        G.nodes[v]['team'] = G_copy.nodes[v]['team']\n",
    "\n",
    "def random_solve(G: nx.Graph, team_size = 10):\n",
    "    for v in G:\n",
    "        G.nodes[v]['team'] = random.randint(1, random.randint(1, team_size))\n",
    "\n",
    "def random_sample_solve(G: nx.Graph):\n",
    "    G_best, best_score = G.copy(), float('inf')\n",
    "    for _ in range(1000):\n",
    "        random_solve(G)\n",
    "        new_score = score(G)\n",
    "        if new_score < best_score:\n",
    "            G_best, best_score = G.copy(), new_score\n",
    "    copy_teams(G, G_best)\n",
    "\n",
    "def solve(G: nx.Graph):\n",
    "    # physics_solve(G, 11, dim=6, vel_decay=0.999, total_steps=1000)\n",
    "    random_sample_solve(G)\n",
    "    \n",
    "def score_to_str(score: float):\n",
    "    return str(round(score))\n",
    "\n",
    "def write_output_general(G: nx.Graph, path: str, overwrite=False, copy=True, suffix=''):\n",
    "    if suffix != '':\n",
    "        suffix = '_' + suffix\n",
    "    write_output(G, path + '{}{}.out'.format(score_to_str(score(G)), suffix), overwrite=overwrite, copy=copy)\n",
    "\n",
    "def visualize_general(G: nx.Graph, path: str, overwrite=False, copy=True, suffix=''):\n",
    "    if suffix != '':\n",
    "        suffix = '_' + suffix\n",
    "    visualize(G, path + '{}{}.png'.format(score_to_str(score(G)), suffix))\n",
    "\n",
    "G = read_input(IN_FILE + 'graph.in')\n",
    "solve(G)\n",
    "validate_output(G)\n",
    "run_type = 'rand'\n",
    "write_output_general(G, IN_FILE, overwrite=True, suffix=run_type)\n",
    "visualize_general(G, IN_FILE, suffix=run_type)\n",
    "score(G)"
   ]
  },
  {
   "cell_type": "code",
   "execution_count": null,
   "metadata": {},
   "outputs": [],
   "source": [
    "run_all(solve, '../tests/', '../submission/', overwrite=True)\n",
    "tar('../phase_2/', path='../submission.tar')"
   ]
  },
  {
   "cell_type": "markdown",
   "metadata": {},
   "source": [
    "# Custom Visualizer"
   ]
  },
  {
   "cell_type": "code",
   "execution_count": null,
   "metadata": {},
   "outputs": [],
   "source": [
    "FILE = '449_apple'\n",
    "TEST_FOLDER = '../tests/large/large145/'\n",
    "IN_FILE = TEST_FOLDER + 'graph.in'\n",
    "OUT_FILE = TEST_FOLDER + FILE + '.out'\n",
    "G = read_input(IN_FILE)\n",
    "read_output(G, OUT_FILE)\n",
    "validate_output(G)\n",
    "# visualize(G, path=TEST_FOLDER + FILE + '.png')\n",
    "score(G)"
   ]
  }
 ],
 "metadata": {
  "kernelspec": {
   "display_name": "Python 3.9.7 ('base')",
   "language": "python",
   "name": "python3"
  },
  "language_info": {
   "codemirror_mode": {
    "name": "ipython",
    "version": 3
   },
   "file_extension": ".py",
   "mimetype": "text/x-python",
   "name": "python",
   "nbconvert_exporter": "python",
   "pygments_lexer": "ipython3",
   "version": "3.9.7"
  },
  "vscode": {
   "interpreter": {
    "hash": "19d1d53a962d236aa061289c2ac16dc8e6d9648c89fe79f459ae9a3493bc67b4"
   }
  }
 },
 "nbformat": 4,
 "nbformat_minor": 1
}
