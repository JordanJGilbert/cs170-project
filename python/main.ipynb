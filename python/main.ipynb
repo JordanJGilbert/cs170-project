{
 "cells": [
  {
   "cell_type": "code",
   "execution_count": 1,
   "metadata": {},
   "outputs": [
    {
     "name": "stdout",
     "output_type": "stream",
     "text": [
      "Requirement already satisfied: networkx in c:\\programdata\\miniconda3\\lib\\site-packages (2.8.6)\n",
      "Note: you may need to restart the kernel to use updated packages.\n"
     ]
    },
    {
     "name": "stderr",
     "output_type": "stream",
     "text": [
      "WARNING: Ignoring invalid distribution - (c:\\programdata\\miniconda3\\lib\\site-packages)\n",
      "WARNING: Ignoring invalid distribution -dna (c:\\programdata\\miniconda3\\lib\\site-packages)\n",
      "WARNING: Ignoring invalid distribution - (c:\\programdata\\miniconda3\\lib\\site-packages)\n",
      "WARNING: Ignoring invalid distribution -dna (c:\\programdata\\miniconda3\\lib\\site-packages)\n",
      "WARNING: Ignoring invalid distribution - (c:\\programdata\\miniconda3\\lib\\site-packages)\n",
      "WARNING: Ignoring invalid distribution -dna (c:\\programdata\\miniconda3\\lib\\site-packages)\n",
      "WARNING: Ignoring invalid distribution - (c:\\programdata\\miniconda3\\lib\\site-packages)\n",
      "WARNING: Ignoring invalid distribution -dna (c:\\programdata\\miniconda3\\lib\\site-packages)\n",
      "WARNING: Ignoring invalid distribution - (c:\\programdata\\miniconda3\\lib\\site-packages)\n",
      "WARNING: Ignoring invalid distribution -dna (c:\\programdata\\miniconda3\\lib\\site-packages)\n",
      "WARNING: Ignoring invalid distribution - (c:\\programdata\\miniconda3\\lib\\site-packages)\n",
      "WARNING: Ignoring invalid distribution -dna (c:\\programdata\\miniconda3\\lib\\site-packages)\n"
     ]
    },
    {
     "name": "stdout",
     "output_type": "stream",
     "text": [
      "Requirement already satisfied: numpy in c:\\programdata\\miniconda3\\lib\\site-packages (1.23.0)\n",
      "Note: you may need to restart the kernel to use updated packages.\n"
     ]
    },
    {
     "name": "stderr",
     "output_type": "stream",
     "text": [
      "WARNING: Ignoring invalid distribution - (c:\\programdata\\miniconda3\\lib\\site-packages)\n",
      "WARNING: Ignoring invalid distribution -dna (c:\\programdata\\miniconda3\\lib\\site-packages)\n",
      "WARNING: Ignoring invalid distribution - (c:\\programdata\\miniconda3\\lib\\site-packages)\n",
      "WARNING: Ignoring invalid distribution -dna (c:\\programdata\\miniconda3\\lib\\site-packages)\n",
      "WARNING: Ignoring invalid distribution - (c:\\programdata\\miniconda3\\lib\\site-packages)\n",
      "WARNING: Ignoring invalid distribution -dna (c:\\programdata\\miniconda3\\lib\\site-packages)\n",
      "WARNING: Ignoring invalid distribution - (c:\\programdata\\miniconda3\\lib\\site-packages)\n",
      "WARNING: Ignoring invalid distribution -dna (c:\\programdata\\miniconda3\\lib\\site-packages)\n",
      "WARNING: Ignoring invalid distribution - (c:\\programdata\\miniconda3\\lib\\site-packages)\n",
      "WARNING: Ignoring invalid distribution -dna (c:\\programdata\\miniconda3\\lib\\site-packages)\n",
      "WARNING: Ignoring invalid distribution - (c:\\programdata\\miniconda3\\lib\\site-packages)\n",
      "WARNING: Ignoring invalid distribution -dna (c:\\programdata\\miniconda3\\lib\\site-packages)\n"
     ]
    },
    {
     "name": "stdout",
     "output_type": "stream",
     "text": [
      "Requirement already satisfied: tqdm in c:\\programdata\\miniconda3\\lib\\site-packages (4.62.3)\n",
      "Requirement already satisfied: colorama in c:\\programdata\\miniconda3\\lib\\site-packages (from tqdm) (0.4.5)\n",
      "Note: you may need to restart the kernel to use updated packages.\n"
     ]
    },
    {
     "name": "stderr",
     "output_type": "stream",
     "text": [
      "WARNING: Ignoring invalid distribution - (c:\\programdata\\miniconda3\\lib\\site-packages)\n",
      "WARNING: Ignoring invalid distribution -dna (c:\\programdata\\miniconda3\\lib\\site-packages)\n",
      "WARNING: Ignoring invalid distribution - (c:\\programdata\\miniconda3\\lib\\site-packages)\n",
      "WARNING: Ignoring invalid distribution -dna (c:\\programdata\\miniconda3\\lib\\site-packages)\n",
      "WARNING: Ignoring invalid distribution - (c:\\programdata\\miniconda3\\lib\\site-packages)\n",
      "WARNING: Ignoring invalid distribution -dna (c:\\programdata\\miniconda3\\lib\\site-packages)\n",
      "WARNING: Ignoring invalid distribution - (c:\\programdata\\miniconda3\\lib\\site-packages)\n",
      "WARNING: Ignoring invalid distribution -dna (c:\\programdata\\miniconda3\\lib\\site-packages)\n",
      "WARNING: Ignoring invalid distribution - (c:\\programdata\\miniconda3\\lib\\site-packages)\n",
      "WARNING: Ignoring invalid distribution -dna (c:\\programdata\\miniconda3\\lib\\site-packages)\n",
      "WARNING: Ignoring invalid distribution - (c:\\programdata\\miniconda3\\lib\\site-packages)\n",
      "WARNING: Ignoring invalid distribution -dna (c:\\programdata\\miniconda3\\lib\\site-packages)\n"
     ]
    },
    {
     "name": "stdout",
     "output_type": "stream",
     "text": [
      "Requirement already satisfied: matplotlib in c:\\programdata\\miniconda3\\lib\\site-packages (3.6.0)\n",
      "Requirement already satisfied: packaging>=20.0 in c:\\programdata\\miniconda3\\lib\\site-packages (from matplotlib) (21.3)\n",
      "Requirement already satisfied: pyparsing>=2.2.1 in c:\\programdata\\miniconda3\\lib\\site-packages (from matplotlib) (3.0.9)\n",
      "Requirement already satisfied: contourpy>=1.0.1 in c:\\programdata\\miniconda3\\lib\\site-packages (from matplotlib) (1.0.5)\n",
      "Requirement already satisfied: python-dateutil>=2.7 in c:\\programdata\\miniconda3\\lib\\site-packages (from matplotlib) (2.8.2)\n",
      "Requirement already satisfied: cycler>=0.10 in c:\\programdata\\miniconda3\\lib\\site-packages (from matplotlib) (0.11.0)\n",
      "Requirement already satisfied: pillow>=6.2.0 in c:\\programdata\\miniconda3\\lib\\site-packages (from matplotlib) (9.2.0)\n",
      "Requirement already satisfied: numpy>=1.19 in c:\\programdata\\miniconda3\\lib\\site-packages (from matplotlib) (1.23.0)\n",
      "Requirement already satisfied: kiwisolver>=1.0.1 in c:\\programdata\\miniconda3\\lib\\site-packages (from matplotlib) (1.4.4)\n",
      "Requirement already satisfied: fonttools>=4.22.0 in c:\\programdata\\miniconda3\\lib\\site-packages (from matplotlib) (4.37.2)\n",
      "Requirement already satisfied: six>=1.5 in c:\\programdata\\miniconda3\\lib\\site-packages (from python-dateutil>=2.7->matplotlib) (1.16.0)\n",
      "Note: you may need to restart the kernel to use updated packages.\n"
     ]
    },
    {
     "name": "stderr",
     "output_type": "stream",
     "text": [
      "WARNING: Ignoring invalid distribution - (c:\\programdata\\miniconda3\\lib\\site-packages)\n",
      "WARNING: Ignoring invalid distribution -dna (c:\\programdata\\miniconda3\\lib\\site-packages)\n",
      "WARNING: Ignoring invalid distribution - (c:\\programdata\\miniconda3\\lib\\site-packages)\n",
      "WARNING: Ignoring invalid distribution -dna (c:\\programdata\\miniconda3\\lib\\site-packages)\n",
      "WARNING: Ignoring invalid distribution - (c:\\programdata\\miniconda3\\lib\\site-packages)\n",
      "WARNING: Ignoring invalid distribution -dna (c:\\programdata\\miniconda3\\lib\\site-packages)\n",
      "WARNING: Ignoring invalid distribution - (c:\\programdata\\miniconda3\\lib\\site-packages)\n",
      "WARNING: Ignoring invalid distribution -dna (c:\\programdata\\miniconda3\\lib\\site-packages)\n",
      "WARNING: Ignoring invalid distribution - (c:\\programdata\\miniconda3\\lib\\site-packages)\n",
      "WARNING: Ignoring invalid distribution -dna (c:\\programdata\\miniconda3\\lib\\site-packages)\n",
      "WARNING: Ignoring invalid distribution - (c:\\programdata\\miniconda3\\lib\\site-packages)\n",
      "WARNING: Ignoring invalid distribution -dna (c:\\programdata\\miniconda3\\lib\\site-packages)\n"
     ]
    }
   ],
   "source": [
    "# Install packages\n",
    "%pip install networkx\n",
    "%pip install numpy\n",
    "%pip install tqdm\n",
    "%pip install matplotlib"
   ]
  },
  {
   "cell_type": "code",
   "execution_count": 3,
   "metadata": {},
   "outputs": [],
   "source": [
    "# The starter code is short and simple, take a look!\n",
    "from starter import *"
   ]
  },
  {
   "cell_type": "markdown",
   "metadata": {},
   "source": [
    "# Phase 1 - Create Inputs"
   ]
  },
  {
   "cell_type": "code",
   "execution_count": 9,
   "metadata": {},
   "outputs": [],
   "source": [
    "# Add edges with G.add_edge(u, v, weight=w)\n",
    "# Idea: consider making the inputs with a solution in mind, \n",
    "# such that you know the solution when the outputs are released\n",
    "\n",
    "def small(G: nx.Graph):\n",
    "    # TODO add edges to complete the small input\n",
    "    pass\n",
    "    \n",
    "def medium(G: nx.Graph):\n",
    "    # TODO add edges to complete the medium input\n",
    "    pass\n",
    "    \n",
    "def large(G: nx.Graph):\n",
    "    # TODO add edges to complete the large input\n",
    "    pass"
   ]
  },
  {
   "cell_type": "code",
   "execution_count": 8,
   "metadata": {},
   "outputs": [
    {
     "ename": "AssertionError",
     "evalue": "Edge weights must be integers",
     "output_type": "error",
     "traceback": [
      "\u001b[1;31m---------------------------------------------------------------------------\u001b[0m",
      "\u001b[1;31mAssertionError\u001b[0m                            Traceback (most recent call last)",
      "Cell \u001b[1;32mIn [8], line 3\u001b[0m\n\u001b[0;32m      1\u001b[0m G \u001b[39m=\u001b[39m nx\u001b[39m.\u001b[39mempty_graph(N_SMALL)\n\u001b[0;32m      2\u001b[0m small(G)\n\u001b[1;32m----> 3\u001b[0m write_input(G, \u001b[39m'\u001b[39;49m\u001b[39msmall.in\u001b[39;49m\u001b[39m'\u001b[39;49m)\n\u001b[0;32m      5\u001b[0m G \u001b[39m=\u001b[39m nx\u001b[39m.\u001b[39mempty_graph(N_MEDIUM)\n\u001b[0;32m      6\u001b[0m medium(G)\n",
      "File \u001b[1;32mc:\\Users\\nisha\\source\\repos\\170 Project\\starter.py:29\u001b[0m, in \u001b[0;36mwrite_input\u001b[1;34m(G, path, overwrite)\u001b[0m\n\u001b[0;32m     26\u001b[0m \u001b[39mdef\u001b[39;00m \u001b[39mwrite_input\u001b[39m(G: nx\u001b[39m.\u001b[39mGraph, path: \u001b[39mstr\u001b[39m, overwrite: \u001b[39mbool\u001b[39m\u001b[39m=\u001b[39m\u001b[39mFalse\u001b[39;00m):\n\u001b[0;32m     27\u001b[0m     \u001b[39massert\u001b[39;00m overwrite \u001b[39mor\u001b[39;00m \u001b[39mnot\u001b[39;00m os\u001b[39m.\u001b[39mpath\u001b[39m.\u001b[39mexists(path), \\\n\u001b[0;32m     28\u001b[0m         \u001b[39m'\u001b[39m\u001b[39mFile already exists and overwrite set to False. Move file or set overwrite to True to proceed.\u001b[39m\u001b[39m'\u001b[39m\n\u001b[1;32m---> 29\u001b[0m     \u001b[39mif\u001b[39;00m validate_input(G):\n\u001b[0;32m     30\u001b[0m         \u001b[39mwith\u001b[39;00m \u001b[39mopen\u001b[39m(path, \u001b[39m'\u001b[39m\u001b[39mw\u001b[39m\u001b[39m'\u001b[39m) \u001b[39mas\u001b[39;00m fp:\n\u001b[0;32m     31\u001b[0m             json\u001b[39m.\u001b[39mdump(nx\u001b[39m.\u001b[39mnode_link_data(G), fp)\n",
      "File \u001b[1;32mc:\\Users\\nisha\\source\\repos\\170 Project\\starter.py:73\u001b[0m, in \u001b[0;36mvalidate_input\u001b[1;34m(G)\u001b[0m\n\u001b[0;32m     71\u001b[0m \u001b[39massert\u001b[39;00m u \u001b[39m!=\u001b[39m v, \u001b[39m'\u001b[39m\u001b[39mEdges should be between distinct vertices (a penguin is experiencing inner-conflict)\u001b[39m\u001b[39m'\u001b[39m\n\u001b[0;32m     72\u001b[0m \u001b[39massert\u001b[39;00m \u001b[39mset\u001b[39m(d) \u001b[39m==\u001b[39m {\u001b[39m'\u001b[39m\u001b[39mweight\u001b[39m\u001b[39m'\u001b[39m}, \u001b[39m'\u001b[39m\u001b[39mEdge must only have weight data\u001b[39m\u001b[39m'\u001b[39m\n\u001b[1;32m---> 73\u001b[0m \u001b[39massert\u001b[39;00m \u001b[39misinstance\u001b[39m(d[\u001b[39m'\u001b[39m\u001b[39mweight\u001b[39m\u001b[39m'\u001b[39m], \u001b[39mint\u001b[39m), \u001b[39m'\u001b[39m\u001b[39mEdge weights must be integers\u001b[39m\u001b[39m'\u001b[39m\n\u001b[0;32m     74\u001b[0m \u001b[39massert\u001b[39;00m d[\u001b[39m'\u001b[39m\u001b[39mweight\u001b[39m\u001b[39m'\u001b[39m] \u001b[39m>\u001b[39m \u001b[39m0\u001b[39m, \u001b[39m'\u001b[39m\u001b[39mEdge weights must be positive\u001b[39m\u001b[39m'\u001b[39m\n\u001b[0;32m     75\u001b[0m \u001b[39massert\u001b[39;00m d[\u001b[39m'\u001b[39m\u001b[39mweight\u001b[39m\u001b[39m'\u001b[39m] \u001b[39m<\u001b[39m\u001b[39m=\u001b[39m MAX_WEIGHT, \u001b[39mf\u001b[39m\u001b[39m'\u001b[39m\u001b[39mEdge weights cannot be greater than \u001b[39m\u001b[39m{\u001b[39;00mMAX_WEIGHT\u001b[39m}\u001b[39;00m\u001b[39m'\u001b[39m\n",
      "\u001b[1;31mAssertionError\u001b[0m: Edge weights must be integers"
     ]
    }
   ],
   "source": [
    "G = nx.empty_graph(N_SMALL)\n",
    "small(G)\n",
    "write_input(G, 'small.in')\n",
    "\n",
    "G = nx.empty_graph(N_MEDIUM)\n",
    "medium(G)\n",
    "write_input(G, 'medium.in')\n",
    "\n",
    "G = nx.empty_graph(N_LARGE)\n",
    "large(G)\n",
    "write_input(G, 'large.in')"
   ]
  },
  {
   "cell_type": "markdown",
   "metadata": {},
   "source": [
    "# Phase 2 - Implement your Solver"
   ]
  },
  {
   "cell_type": "code",
   "execution_count": 4,
   "metadata": {},
   "outputs": [],
   "source": [
    "def solve(G: nx.Graph):\n",
    "    # TODO implement this function with your solver\n",
    "    # Assign a team to v with G.nodes[v]['team'] = team_id\n",
    "    # Access the team of v with team_id = G.nodes[v]['team']\n",
    "    pass"
   ]
  },
  {
   "cell_type": "code",
   "execution_count": 5,
   "metadata": {},
   "outputs": [
    {
     "ename": "FileNotFoundError",
     "evalue": "[WinError 2] The system cannot find the file specified: 'small.in'",
     "output_type": "error",
     "traceback": [
      "\u001b[1;31m---------------------------------------------------------------------------\u001b[0m",
      "\u001b[1;31mFileNotFoundError\u001b[0m                         Traceback (most recent call last)",
      "Cell \u001b[1;32mIn [5], line 1\u001b[0m\n\u001b[1;32m----> 1\u001b[0m G \u001b[39m=\u001b[39m read_input(\u001b[39m'\u001b[39;49m\u001b[39msmall.in\u001b[39;49m\u001b[39m'\u001b[39;49m)\n\u001b[0;32m      2\u001b[0m solve(G)\n\u001b[0;32m      3\u001b[0m validate_output(G)\n",
      "File \u001b[1;32mc:\\Users\\nisha\\source\\repos\\170 Project\\starter.py:35\u001b[0m, in \u001b[0;36mread_input\u001b[1;34m(path)\u001b[0m\n\u001b[0;32m     34\u001b[0m \u001b[39mdef\u001b[39;00m \u001b[39mread_input\u001b[39m(path: \u001b[39mstr\u001b[39m):\n\u001b[1;32m---> 35\u001b[0m     \u001b[39massert\u001b[39;00m os\u001b[39m.\u001b[39;49mpath\u001b[39m.\u001b[39;49mgetsize(path) \u001b[39m<\u001b[39m INPUT_SIZE_LIMIT, \u001b[39m'\u001b[39m\u001b[39mThis input file is too large\u001b[39m\u001b[39m'\u001b[39m\n\u001b[0;32m     36\u001b[0m     \u001b[39mwith\u001b[39;00m \u001b[39mopen\u001b[39m(path) \u001b[39mas\u001b[39;00m fp:\n\u001b[0;32m     37\u001b[0m         G \u001b[39m=\u001b[39m nx\u001b[39m.\u001b[39mnode_link_graph(json\u001b[39m.\u001b[39mload(fp))\n",
      "File \u001b[1;32mc:\\ProgramData\\Miniconda3\\lib\\genericpath.py:50\u001b[0m, in \u001b[0;36mgetsize\u001b[1;34m(filename)\u001b[0m\n\u001b[0;32m     48\u001b[0m \u001b[39mdef\u001b[39;00m \u001b[39mgetsize\u001b[39m(filename):\n\u001b[0;32m     49\u001b[0m     \u001b[39m\"\"\"Return the size of a file, reported by os.stat().\"\"\"\u001b[39;00m\n\u001b[1;32m---> 50\u001b[0m     \u001b[39mreturn\u001b[39;00m os\u001b[39m.\u001b[39;49mstat(filename)\u001b[39m.\u001b[39mst_size\n",
      "\u001b[1;31mFileNotFoundError\u001b[0m: [WinError 2] The system cannot find the file specified: 'small.in'"
     ]
    }
   ],
   "source": [
    "G = read_input('small.in')\n",
    "solve(G)\n",
    "validate_output(G)\n",
    "visualize(G)\n",
    "score(G)"
   ]
  },
  {
   "cell_type": "code",
   "execution_count": null,
   "metadata": {},
   "outputs": [],
   "source": [
    "run(solve, 'small.in', 'small.out')"
   ]
  },
  {
   "cell_type": "code",
   "execution_count": null,
   "metadata": {},
   "outputs": [],
   "source": [
    "run_all(solve, 'input', 'output')\n",
    "tar('output')"
   ]
  }
 ],
 "metadata": {
  "kernelspec": {
   "display_name": "Python 3.9.7 ('base')",
   "language": "python",
   "name": "python3"
  },
  "language_info": {
   "codemirror_mode": {
    "name": "ipython",
    "version": 3
   },
   "file_extension": ".py",
   "mimetype": "text/x-python",
   "name": "python",
   "nbconvert_exporter": "python",
   "pygments_lexer": "ipython3",
   "version": "3.9.7"
  },
  "vscode": {
   "interpreter": {
    "hash": "19d1d53a962d236aa061289c2ac16dc8e6d9648c89fe79f459ae9a3493bc67b4"
   }
  }
 },
 "nbformat": 4,
 "nbformat_minor": 1
}
