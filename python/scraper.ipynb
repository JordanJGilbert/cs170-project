{
 "cells": [
  {
   "cell_type": "code",
   "execution_count": 1,
   "metadata": {},
   "outputs": [],
   "source": [
    "import json\n",
    "import requests\n",
    "from bs4 import BeautifulSoup\n",
    "\n",
    "url = \"https://170-leaderboard.vercel.app/team/discordggTYsy64VcWT\"\n",
    "page = requests.get(url)\n",
    "data = BeautifulSoup(page.content, 'html.parser')\n",
    "\n",
    "def get_team_json_table():\n",
    "    json_table = data.find_all('script')[9].string\n",
    "    json_table = json.loads(json_table)\n",
    "    json_table = json_table[\"props\"][\"pageProps\"][\"data\"]\n",
    "    return json_table\n",
    "\n",
    "def get_result_json_table():\n",
    "    json_table = data.find_all('script')[9].string\n",
    "    json_table = json.loads(json_table)\n",
    "    json_table = json_table[\"props\"][\"pageProps\"][\"sortedData\"]\n",
    "    return json_table\n",
    "\n",
    "def expand_input(name):\n",
    "    if name.startswith('large'):\n",
    "        return ('large', int(name[5:-3]))\n",
    "    elif name.startswith('medium'):\n",
    "        return ('medium', int(name[6:-3]))\n",
    "    elif name.startswith('small'):\n",
    "        return ('small', int(name[5:-3]))\n",
    "\n",
    "class Result:\n",
    "    size = None\n",
    "    test = None\n",
    "    rank = None\n",
    "    best_score = None\n",
    "    url = None\n",
    "\n",
    "    def __init__(self, name, rank, score):\n",
    "        self.size, self.test = expand_input(name)\n",
    "        self.rank = rank\n",
    "        self.best_score = score\n",
    "        self.url = f\"https://170-leaderboard.vercel.app/input/{self.size}/{self.test}\"\n",
    "\n",
    "    def __str__(self):\n",
    "        return f\"{self.size} {self.test} {self.rank} {self.best_score} {self.url}\"\n",
    "    \n",
    "    def __repr__(self):\n",
    "        return f\"{self.size} {self.test} {self.rank} {self.best_score} {self.url}\"\n",
    "\n",
    "team_json_table = get_team_json_table()\n",
    "table = dict()\n",
    "for key in team_json_table:\n",
    "    table[key] = (team_json_table[key][\"score\"], team_json_table[key][\"rank\"])\n",
    "\n",
    "sorted_table = []\n",
    "for key in table:\n",
    "    sorted_table.append(Result(key, table[key][1], table[key][0]))\n",
    "sorted_table.sort(key=lambda x: x.rank, reverse=True)\n",
    "\n",
    "with open(\"../queue.txt\", \"w\") as f:\n",
    "    f.write(\"\")\n",
    "\n",
    "for result in sorted_table:\n",
    "    if result.rank != 1:\n",
    "        page = requests.get(result.url)\n",
    "        data = BeautifulSoup(page.content, 'html.parser')\n",
    "        result_json_table = get_result_json_table()\n",
    "        result.best_score = result_json_table[0][\"score\"]\n",
    "    print(result, file=open(\"../queue.txt\", \"a\"))"
   ]
  }
 ],
 "metadata": {
  "kernelspec": {
   "display_name": "Python 3.9.7 ('base')",
   "language": "python",
   "name": "python3"
  },
  "language_info": {
   "codemirror_mode": {
    "name": "ipython",
    "version": 3
   },
   "file_extension": ".py",
   "mimetype": "text/x-python",
   "name": "python",
   "nbconvert_exporter": "python",
   "pygments_lexer": "ipython3",
   "version": "3.9.7"
  },
  "orig_nbformat": 4,
  "vscode": {
   "interpreter": {
    "hash": "19d1d53a962d236aa061289c2ac16dc8e6d9648c89fe79f459ae9a3493bc67b4"
   }
  }
 },
 "nbformat": 4,
 "nbformat_minor": 2
}
