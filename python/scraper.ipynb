{
 "cells": [
  {
   "cell_type": "code",
   "execution_count": 23,
   "metadata": {},
   "outputs": [
    {
     "name": "stdout",
     "output_type": "stream",
     "text": [
      "\n"
     ]
    },
    {
     "name": "stderr",
     "output_type": "stream",
     "text": [
      "[WDM] - ====== WebDriver manager ======\n",
      "[WDM] - Current google-chrome version is 107.0.5304\n",
      "[WDM] - Get LATEST chromedriver version for 107.0.5304 google-chrome\n",
      "[WDM] - Driver [C:\\Users\\nisha\\.wdm\\drivers\\chromedriver\\win32\\107.0.5304.62\\chromedriver.exe] found in cache\n",
      "C:\\Users\\nisha\\AppData\\Local\\Temp\\ipykernel_47800\\458751026.py:4: DeprecationWarning: executable_path has been deprecated, please pass in a Service object\n",
      "  driver = webdriver.Chrome(ChromeDriverManager().install())\n"
     ]
    }
   ],
   "source": [
    "from selenium import webdriver\n",
    "from webdriver_manager.chrome import ChromeDriverManager\n",
    "\n",
    "driver = webdriver.Chrome(ChromeDriverManager().install())\n",
    "driver.get(\"https://170-leaderboard.vercel.app/team/discordggTYsy64VcWT\")\n",
    "\n",
    "data = driver.execute_script(\"return document.body.innerText\")\n",
    "table = dict()\n",
    "for line in data.splitlines():\n",
    "    if line.startswith(\"small\") or line.startswith(\"medium\") or line.startswith(\"large\"):\n",
    "        line = line.split()\n",
    "        table[(line[0], line[1])] = (float(line[2]), int(line[3]))\n",
    "\n",
    "sorted_table = sorted(table.items(), key=lambda item: item[1][1], reverse=True)\n",
    "with open(\"../queue.txt\", \"w\") as f:\n",
    "    f.write(\"\")\n",
    "for i in sorted_table:\n",
    "    if i[1][1] != 1:\n",
    "        url = \"https://170-leaderboard.vercel.app/input/\" + i[0][0] + \"/\" + i[0][1]\n",
    "        # print(i[1][1], i[0][0] + i[0][1], url)\n",
    "        print(i[0][0], i[0][1], i[1][0], i[1][1], url, file=open(\"../queue.txt\", \"a\"))\n",
    "\n",
    "driver.quit()"
   ]
  }
 ],
 "metadata": {
  "language_info": {
   "name": "python"
  },
  "orig_nbformat": 4
 },
 "nbformat": 4,
 "nbformat_minor": 2
}
