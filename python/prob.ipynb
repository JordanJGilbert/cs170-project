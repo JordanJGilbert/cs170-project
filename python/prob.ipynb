{
 "cells": [
  {
   "cell_type": "code",
   "execution_count": 72,
   "metadata": {},
   "outputs": [
    {
     "name": "stdout",
     "output_type": "stream",
     "text": [
      "[143, 143, 143, 143, 143, 143, 142]\n",
      "0.0\n"
     ]
    }
   ],
   "source": [
    "from starter import *\n",
    "import random\n",
    "import sys\n",
    "\n",
    "sys.setrecursionlimit(1000000)\n",
    "\n",
    "G = read_input('../tests/large/large169/graph.in')\n",
    "target_score = 3312.6121493860305\n",
    "\n",
    "node_weights = [(0, i) for i in range(G.number_of_nodes())]\n",
    "weight_matrix = nx.to_numpy_matrix(G)\n",
    "\n",
    "for u, v in G.edges:\n",
    "    node_weights[u] = (node_weights[u][0] + G.edges[u, v]['weight'], u)\n",
    "    node_weights[v] = (node_weights[v][0] + G.edges[u, v]['weight'], v)\n",
    "\n",
    "node_weights.sort(reverse=True)\n",
    "\n",
    "G = read_output(G, '../tests/large/large169/3406_land.out')\n",
    "team_count = 0\n",
    "for i in range(G.number_of_nodes()):\n",
    "    team_count = max(team_count, G.nodes[i]['team'])\n",
    "team_dist = [0] * team_count\n",
    "for i in range(G.number_of_nodes()):\n",
    "    team_dist[G.nodes[i]['team'] - 1] += 1\n",
    "team_dist.sort(reverse=True)\n",
    "print(team_dist)\n",
    "target_score -= K_COEFFICIENT * math.exp(K_EXP * team_count) + math.exp(B_EXP * np.linalg.norm((np.array(team_dist) / G.number_of_nodes()) - 1 / team_count, 2))\n",
    "\n",
    "print(target_score)"
   ]
  },
  {
   "cell_type": "code",
   "execution_count": null,
   "metadata": {},
   "outputs": [],
   "source": [
    "team_assignments = [0] * G.number_of_nodes()\n",
    "team_sizes = [0] * team_count\n",
    "\n",
    "# set up team assignments while never exceeding the target score and keeping the team sizes < team_dist\n",
    "def dfs(score, team, node):\n",
    "    if team_assignments[node] != 0:\n",
    "        return\n",
    "    if score > target_score:\n",
    "        return\n",
    "    team_assignments[node] = team\n",
    "    team_sizes[team - 1] += 1\n",
    "    if team_sizes[team - 1] > team_dist[team - 1]:\n",
    "        team_assignments[node] = 0\n",
    "        team_sizes[team - 1] -= 1\n",
    "        return\n",
    "    for neighbor in G.neighbors(node):\n",
    "        for i in range(1, team_count + 1):\n",
    "            dfs(score + G.edges[node, neighbor]['weight'], i, neighbor)"
   ]
  }
 ],
 "metadata": {
  "kernelspec": {
   "display_name": "Python 3.9.7 ('base')",
   "language": "python",
   "name": "python3"
  },
  "language_info": {
   "codemirror_mode": {
    "name": "ipython",
    "version": 3
   },
   "file_extension": ".py",
   "mimetype": "text/x-python",
   "name": "python",
   "nbconvert_exporter": "python",
   "pygments_lexer": "ipython3",
   "version": "3.9.7"
  },
  "orig_nbformat": 4,
  "vscode": {
   "interpreter": {
    "hash": "19d1d53a962d236aa061289c2ac16dc8e6d9648c89fe79f459ae9a3493bc67b4"
   }
  }
 },
 "nbformat": 4,
 "nbformat_minor": 2
}
