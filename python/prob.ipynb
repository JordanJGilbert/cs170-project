{
 "cells": [
  {
   "cell_type": "code",
   "execution_count": 61,
   "metadata": {},
   "outputs": [
    {
     "name": "stdout",
     "output_type": "stream",
     "text": [
      "2926.1467862937398\n",
      "41\n",
      "0 2\n",
      "1 4\n",
      "2 8\n",
      "3 16\n",
      "4 32\n",
      "5 62\n",
      "6 120\n",
      "7 236\n",
      "8 472\n",
      "9 774\n",
      "10 1222\n",
      "11 1904\n",
      "12 2996\n",
      "13 4854\n",
      "14 8262\n",
      "15 15032\n",
      "16 29358\n",
      "17 36180\n",
      "18 45746\n",
      "19 59776\n",
      "20 81454\n",
      "21 117170\n",
      "22 180680\n",
      "23 303904\n",
      "24 566912\n",
      "25 627014\n",
      "26 714670\n",
      "27 845656\n",
      "28 1049064\n",
      "29 1382428\n",
      "30 1968606\n",
      "31 3094828\n",
      "32 5505950\n",
      "33 5811122\n",
      "34 6281246\n",
      "35 7011414\n",
      "36 8171720\n",
      "37 10091244\n",
      "38 13464614\n"
     ]
    }
   ],
   "source": [
    "from starter import *\n",
    "import random\n",
    "\n",
    "G = read_input('../tests/large/large61/graph.in')\n",
    "\n",
    "node_weights = [(0, i) for i in range(G.number_of_nodes())]\n",
    "weight_matrix = nx.to_numpy_matrix(G)\n",
    "\n",
    "for u, v in G.edges:\n",
    "    node_weights[u] = (node_weights[u][0] + G.edges[u, v]['weight'], u)\n",
    "    node_weights[v] = (node_weights[v][0] + G.edges[u, v]['weight'], v)\n",
    "\n",
    "node_weights.sort(reverse=True)\n",
    "\n",
    "team_count = 6\n",
    "target_score = 4934.700478612506\n",
    "target_score -= K_COEFFICIENT * math.exp(K_EXP * team_count)\n",
    "print(target_score)\n",
    "\n",
    "edge_groups = [(0, [])]\n",
    "edges = set()\n",
    "resolution = 25\n",
    "for u, v in G.edges:\n",
    "    edges.add(G.edges[u, v]['weight'] // resolution * resolution)\n",
    "edges = list(edges)\n",
    "print(len(edges))\n",
    "\n",
    "for i in range(len(edges)):\n",
    "    new_edge_groups = []\n",
    "    for group in edge_groups:\n",
    "        if group[0] + edges[i] <= target_score:\n",
    "            new_edge_groups.append((group[0] + edges[i], group[1] + [edges[i]]))\n",
    "    edge_groups += new_edge_groups\n",
    "    print(i, len(edge_groups))"
   ]
  },
  {
   "cell_type": "code",
   "execution_count": 59,
   "metadata": {},
   "outputs": [
    {
     "name": "stdout",
     "output_type": "stream",
     "text": [
      "73894\n"
     ]
    }
   ],
   "source": [
    "lower_bound = 2000\n",
    "upper_bound = target_score\n",
    "\n",
    "edge_groups_filtered = [w for w in edge_groups if lower_bound <= w[0] <= upper_bound]\n",
    "print(len(edge_groups_filtered))"
   ]
  }
 ],
 "metadata": {
  "kernelspec": {
   "display_name": "Python 3.9.7 ('base')",
   "language": "python",
   "name": "python3"
  },
  "language_info": {
   "codemirror_mode": {
    "name": "ipython",
    "version": 3
   },
   "file_extension": ".py",
   "mimetype": "text/x-python",
   "name": "python",
   "nbconvert_exporter": "python",
   "pygments_lexer": "ipython3",
   "version": "3.9.7"
  },
  "orig_nbformat": 4,
  "vscode": {
   "interpreter": {
    "hash": "19d1d53a962d236aa061289c2ac16dc8e6d9648c89fe79f459ae9a3493bc67b4"
   }
  }
 },
 "nbformat": 4,
 "nbformat_minor": 2
}
